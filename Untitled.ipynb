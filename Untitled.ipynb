{
 "cells": [
  {
   "cell_type": "code",
   "execution_count": 54,
   "metadata": {},
   "outputs": [],
   "source": [
    "class Node:\n",
    "    def __init__(self, value=None, next_node=None):\n",
    "        self.value = value\n",
    "        self.next_node = next_node\n",
    "\n",
    "    def get_value(self):\n",
    "        return self.value\n",
    "\n",
    "    def get_next(self):\n",
    "        if self.value:\n",
    "         return self.next_node\n",
    "\n",
    "    def set_next(self, new_next):\n",
    "        self.next_node = new_next\n",
    "\n",
    "class LinkedList:\n",
    "    def __init__(self):\n",
    "        self.head = None\n",
    "\n",
    "    def add_to_head(self, value):\n",
    "        node = Node(value)\n",
    "\n",
    "        if self.head is not None:\n",
    "            node.set_next(self.head)\n",
    "\n",
    "        self.head = node\n",
    "\n",
    "    def contains(self, value):\n",
    "        if not self.head:\n",
    "            return False\n",
    "\n",
    "        current = self.head\n",
    "\n",
    "        while current:\n",
    "            if current.get_value() == value:\n",
    "                return True\n",
    "\n",
    "            current = current.get_next()\n",
    "\n",
    "        return False\n",
    "\n",
    "\n",
    "\n",
    "    def reverse_list(self, node, prev):\n",
    "        # if no value return nothing\n",
    "        if not node:\n",
    "            return\n",
    "        # if no next node set the head to be the input node\n",
    "        if not node.get_next():\n",
    "            self.head = node\n",
    "            return\n",
    "        # call recursively and pass in the next node\n",
    "        # as the node, and the current node as the\n",
    "        # previous node\n",
    "        self.reverse_list(node.get_next(), node)\n",
    "        # get the next node and set it to the next node\n",
    "        node.get_next().set_next(node)\n",
    "        # set the next node afer that to None\n",
    "        node.set_next(None)\n"
   ]
  },
  {
   "cell_type": "code",
   "execution_count": 55,
   "metadata": {},
   "outputs": [],
   "source": [
    "this = LinkedList()"
   ]
  },
  {
   "cell_type": "code",
   "execution_count": 56,
   "metadata": {},
   "outputs": [],
   "source": [
    "this.add_to_head(3)\n",
    "this.add_to_head(5)\n",
    "this.add_to_head(8)"
   ]
  },
  {
   "cell_type": "code",
   "execution_count": 71,
   "metadata": {},
   "outputs": [
    {
     "data": {
      "text/plain": [
       "5"
      ]
     },
     "execution_count": 71,
     "metadata": {},
     "output_type": "execute_result"
    }
   ],
   "source": [
    "this.head.get_next().value"
   ]
  },
  {
   "cell_type": "code",
   "execution_count": 74,
   "metadata": {},
   "outputs": [
    {
     "ename": "TypeError",
     "evalue": "reverse_list() takes 2 positional arguments but 3 were given",
     "output_type": "error",
     "traceback": [
      "\u001b[1;31m---------------------------------------------------------------------------\u001b[0m",
      "\u001b[1;31mTypeError\u001b[0m                                 Traceback (most recent call last)",
      "\u001b[1;32m<ipython-input-74-0ad730b7b2a4>\u001b[0m in \u001b[0;36m<module>\u001b[1;34m\u001b[0m\n\u001b[1;32m----> 1\u001b[1;33m \u001b[0mthis\u001b[0m\u001b[1;33m.\u001b[0m\u001b[0mreverse_list\u001b[0m\u001b[1;33m(\u001b[0m\u001b[0mthis\u001b[0m\u001b[1;33m.\u001b[0m\u001b[0mhead\u001b[0m\u001b[1;33m)\u001b[0m\u001b[1;33m\u001b[0m\u001b[1;33m\u001b[0m\u001b[0m\n\u001b[0m",
      "\u001b[1;32m<ipython-input-54-477c2bd9c18f>\u001b[0m in \u001b[0;36mreverse_list\u001b[1;34m(self, node)\u001b[0m\n\u001b[0;32m     53\u001b[0m         \u001b[1;31m# as the node, and the current node as the\u001b[0m\u001b[1;33m\u001b[0m\u001b[1;33m\u001b[0m\u001b[1;33m\u001b[0m\u001b[0m\n\u001b[0;32m     54\u001b[0m         \u001b[1;31m# previous node\u001b[0m\u001b[1;33m\u001b[0m\u001b[1;33m\u001b[0m\u001b[1;33m\u001b[0m\u001b[0m\n\u001b[1;32m---> 55\u001b[1;33m         \u001b[0mself\u001b[0m\u001b[1;33m.\u001b[0m\u001b[0mreverse_list\u001b[0m\u001b[1;33m(\u001b[0m\u001b[0mnode\u001b[0m\u001b[1;33m.\u001b[0m\u001b[0mget_next\u001b[0m\u001b[1;33m(\u001b[0m\u001b[1;33m)\u001b[0m\u001b[1;33m,\u001b[0m \u001b[0mnode\u001b[0m\u001b[1;33m)\u001b[0m\u001b[1;33m\u001b[0m\u001b[1;33m\u001b[0m\u001b[0m\n\u001b[0m\u001b[0;32m     56\u001b[0m         \u001b[1;31m# get the next node and set it to the next node\u001b[0m\u001b[1;33m\u001b[0m\u001b[1;33m\u001b[0m\u001b[1;33m\u001b[0m\u001b[0m\n\u001b[0;32m     57\u001b[0m         \u001b[0mnode\u001b[0m\u001b[1;33m.\u001b[0m\u001b[0mget_next\u001b[0m\u001b[1;33m(\u001b[0m\u001b[1;33m)\u001b[0m\u001b[1;33m.\u001b[0m\u001b[0mset_next\u001b[0m\u001b[1;33m(\u001b[0m\u001b[0mnode\u001b[0m\u001b[1;33m)\u001b[0m\u001b[1;33m\u001b[0m\u001b[1;33m\u001b[0m\u001b[0m\n",
      "\u001b[1;31mTypeError\u001b[0m: reverse_list() takes 2 positional arguments but 3 were given"
     ]
    }
   ],
   "source": [
    "this.reverse_list(this.head)"
   ]
  },
  {
   "cell_type": "code",
   "execution_count": 44,
   "metadata": {},
   "outputs": [
    {
     "data": {
      "text/plain": [
       "5"
      ]
     },
     "execution_count": 44,
     "metadata": {},
     "output_type": "execute_result"
    }
   ],
   "source": [
    "this.get_next()"
   ]
  },
  {
   "cell_type": "code",
   "execution_count": 36,
   "metadata": {},
   "outputs": [
    {
     "ename": "AttributeError",
     "evalue": "'int' object has no attribute 'next_node'",
     "output_type": "error",
     "traceback": [
      "\u001b[1;31m---------------------------------------------------------------------------\u001b[0m",
      "\u001b[1;31mAttributeError\u001b[0m                            Traceback (most recent call last)",
      "\u001b[1;32m<ipython-input-36-9fa9b04fa5f6>\u001b[0m in \u001b[0;36m<module>\u001b[1;34m\u001b[0m\n\u001b[1;32m----> 1\u001b[1;33m \u001b[0mthis\u001b[0m\u001b[1;33m.\u001b[0m\u001b[0mnext_node\u001b[0m\u001b[1;33m.\u001b[0m\u001b[0mnext_node\u001b[0m\u001b[1;33m\u001b[0m\u001b[1;33m\u001b[0m\u001b[0m\n\u001b[0m",
      "\u001b[1;31mAttributeError\u001b[0m: 'int' object has no attribute 'next_node'"
     ]
    }
   ],
   "source": [
    "this.next_node.next_node"
   ]
  },
  {
   "cell_type": "code",
   "execution_count": null,
   "metadata": {},
   "outputs": [],
   "source": []
  }
 ],
 "metadata": {
  "kernelspec": {
   "display_name": "Python 3.7.4 64-bit ('base': conda)",
   "language": "python",
   "name": "python37464bitbaseconda0ab463595d1d41d19d5dab79bf159242"
  },
  "language_info": {
   "codemirror_mode": {
    "name": "ipython",
    "version": 3
   },
   "file_extension": ".py",
   "mimetype": "text/x-python",
   "name": "python",
   "nbconvert_exporter": "python",
   "pygments_lexer": "ipython3",
   "version": "3.7.4"
  }
 },
 "nbformat": 4,
 "nbformat_minor": 4
}
